{
 "cells": [
  {
   "cell_type": "markdown",
   "id": "f7302dae-d39b-43e3-8937-8fe061cf7314",
   "metadata": {},
   "source": [
    "# Data Science Tools and Ecosystem\n"
   ]
  },
  {
   "cell_type": "markdown",
   "id": "1da297c7-3b12-4a72-a033-0b239be34ef1",
   "metadata": {},
   "source": [
    "In this notebook, we provide a comprehensive overview and summary of the Data Science Tools and Ecosystem, offering insights into the essential tools and technologies that empower data scientists and analysts in their work."
   ]
  },
  {
   "cell_type": "markdown",
   "id": "de397498-a929-4fb6-b02d-1e58c234f237",
   "metadata": {},
   "source": [
    "**Objectives:**\n",
    "\n",
    "- List popular languages for Data Science.\n",
    "- Introduce commonly used data science libraries.\n",
    "- Provide examples of evaluating arithmetic expressions in Python.\n",
    "- Demonstrate the conversion of minutes to hours using Python.\n",
    "- Create a structured document with markdown and code cells.\n"
   ]
  },
  {
   "cell_type": "markdown",
   "id": "767606cc-f58c-41e6-809a-8575e468d4dc",
   "metadata": {
    "tags": []
   },
   "source": [
    "Some of the popular languages that Data Scientists use are:\n",
    "\n",
    "1. Python\n",
    "2. R\n",
    "3. SQL\n",
    "4. Julia (optional)\n",
    "5. Scala (optional)\n"
   ]
  },
  {
   "cell_type": "markdown",
   "id": "526aaf35-626a-4e98-9df2-e95df977c6dc",
   "metadata": {},
   "source": [
    "Some of the commonly used libraries used by Data Scientists include:\n",
    "\n",
    "1. NumPy: A fundamental library for scientific computing with Python, providing support for arrays and matrices.\n",
    "\n",
    "2. Pandas: A powerful data manipulation and analysis library that offers data structures and functions for working with structured data.\n",
    "\n",
    "3. Matplotlib: A popular data visualization library for creating a wide variety of static, animated, and interactive plots.\n",
    "\n",
    "4. Scikit-Learn: An essential machine learning library for building, training, and evaluating machine learning models in Python.\n",
    "\n",
    "5. TensorFlow (optional): An open-source machine learning framework developed by Google for deep learning applications.\n",
    "\n",
    "6. PyTorch (optional): An open-source deep learning framework primarily developed by Facebook's AI Research lab, used for deep neural networks and deep learning research.\n"
   ]
  },
  {
   "cell_type": "markdown",
   "id": "ef1ed967-56a1-4b2e-a993-4cd7b70d8fb7",
   "metadata": {},
   "source": [
    "| Data Science Tools     |\n",
    "|------------------------|\n",
    "| Jupyter Notebook       |\n",
    "| RStudio                |\n",
    "| VS Code with Python    |\n"
   ]
  },
  {
   "cell_type": "markdown",
   "id": "ac88f20d-1472-496b-b5e4-75107acf77a6",
   "metadata": {},
   "source": [
    "### Examples of Evaluating Arithmetic Expressions in Python\n",
    "\n",
    "Below are a few examples of evaluating arithmetic expressions in Python.\n",
    "\n",
    "```python\n",
    "# Example 1: Addition\n",
    "result1 = 5 + 3\n",
    "print(\"5 + 3 =\", result1)\n",
    "\n",
    "# Example 2: Subtraction\n",
    "result2 = 10 - 7\n",
    "print(\"10 - 7 =\", result2)\n",
    "\n",
    "# Example 3: Multiplication\n",
    "result3 = 4 * 6\n",
    "print(\"4 * 6 =\", result3)\n",
    "\n",
    "# Example 4: Division\n",
    "result4 = 15 / 3\n",
    "print(\"15 / 3 =\", result4)\n",
    "\n",
    "# Example 5: Exponentiation\n",
    "result5 = 2 ** 4\n",
    "print(\"2 ** 4 =\", result5)\n",
    "\n",
    "# Example 6: Modulo (Remainder)\n",
    "result6 = 17 % 5\n",
    "print(\"17 % 5 =\", result6)\n",
    "\n"
   ]
  },
  {
   "cell_type": "code",
   "execution_count": 2,
   "id": "5cfe7042-19c1-4013-97af-4bc119c85ee6",
   "metadata": {
    "tags": []
   },
   "outputs": [
    {
     "data": {
      "text/plain": [
       "17"
      ]
     },
     "execution_count": 2,
     "metadata": {},
     "output_type": "execute_result"
    }
   ],
   "source": [
    "# This is a simple arithmetic expression to multiply and then add integers.\n",
    "result = (3 * 4) + 5\n",
    "result  # Print the result to the output\n"
   ]
  },
  {
   "cell_type": "code",
   "execution_count": 3,
   "id": "5a6fef3a-4c7b-4fd6-8524-78b59d5aa4e5",
   "metadata": {
    "tags": []
   },
   "outputs": [
    {
     "data": {
      "text/plain": [
       "3.3333333333333335"
      ]
     },
     "execution_count": 3,
     "metadata": {},
     "output_type": "execute_result"
    }
   ],
   "source": [
    "# This will convert 200 minutes to hours by dividing by 60.\n",
    "minutes = 200\n",
    "hours = minutes / 60\n",
    "hours  # Print the result to the output\n"
   ]
  },
  {
   "cell_type": "code",
   "execution_count": null,
   "id": "32518068-aaba-46d4-a6b5-e8d73d9b062a",
   "metadata": {},
   "outputs": [],
   "source": [
    "## Author\n",
    "My name is RAHUL KAJLA\n"
   ]
  }
 ],
 "metadata": {
  "kernelspec": {
   "display_name": "Python",
   "language": "python",
   "name": "conda-env-python-py"
  },
  "language_info": {
   "codemirror_mode": {
    "name": "ipython",
    "version": 3
   },
   "file_extension": ".py",
   "mimetype": "text/x-python",
   "name": "python",
   "nbconvert_exporter": "python",
   "pygments_lexer": "ipython3",
   "version": "3.7.12"
  }
 },
 "nbformat": 4,
 "nbformat_minor": 5
}
